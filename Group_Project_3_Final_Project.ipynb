version https://git-lfs.github.com/spec/v1
oid sha256:9eb4a044fa9ccb0ec6a9d33a42562cd6f9aaa591ffdfc49a730ecfabf6a4f06d
size 119355